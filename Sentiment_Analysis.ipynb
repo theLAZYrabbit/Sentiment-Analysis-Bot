{
  "nbformat": 4,
  "nbformat_minor": 0,
  "metadata": {
    "colab": {
      "name": "Sentiment Analysis.ipynb",
      "provenance": [],
      "collapsed_sections": [],
      "authorship_tag": "ABX9TyMRWmxyshBy3HL51caqCN/m",
      "include_colab_link": true
    },
    "kernelspec": {
      "name": "python3",
      "display_name": "Python 3"
    },
    "language_info": {
      "name": "python"
    }
  },
  "cells": [
    {
      "cell_type": "markdown",
      "metadata": {
        "id": "view-in-github",
        "colab_type": "text"
      },
      "source": [
        "<a href=\"https://colab.research.google.com/github/theLAZYrabbit/Sentiment-Analysis-Bot/blob/main/Sentiment_Analysis.ipynb\" target=\"_parent\"><img src=\"https://colab.research.google.com/assets/colab-badge.svg\" alt=\"Open In Colab\"/></a>"
      ]
    },
    {
      "cell_type": "code",
      "metadata": {
        "colab": {
          "base_uri": "https://localhost:8080/",
          "height": 1000
        },
        "id": "uavbOxhbwGfX",
        "outputId": "1f62c3bf-c3d4-4b1c-dd0d-a1218a417c37"
      },
      "source": [
        "import pandas as pd\n",
        "import numpy as np\n",
        "import matplotlib.pyplot as plt\n",
        "import seaborn as sn\n",
        "import re\n",
        "import emoji\n",
        "import string\n",
        "import contractions\n",
        "import nltk\n",
        "from nltk.tokenize import word_tokenize\n",
        "from nltk.corpus import stopwords\n",
        "from nltk.stem import PorterStemmer\n",
        "from nltk.stem import LancasterStemmer\n",
        "from nltk.stem.snowball import SnowballStemmer\n",
        "from nltk.stem import WordNetLemmatizer\n",
        "from nltk.corpus import wordnet\n",
        "from sklearn.model_selection import train_test_split\n",
        "from sklearn.linear_model import LogisticRegression\n",
        "from sklearn.metrics import accuracy_score\n",
        "from sklearn.metrics import confusion_matrix\n",
        "from sklearn.feature_extraction.text import CountVectorizer\n",
        "from sklearn.feature_extraction.text import TfidfVectorizer\n",
        "\n",
        "nltk.download('wordnet')\n",
        "nltk.download('stopwords')\n",
        "nltk.download('punkt')\n",
        "\n",
        "\n",
        "df = pd.read_csv(\"tweet_data.csv\")\n",
        "\n",
        "stop_words = set(stopwords.words('english'))\n",
        "porter_stemmer = PorterStemmer()\n",
        "lancaster_stemmer = LancasterStemmer()\n",
        "snoball_stemmer = SnowballStemmer('english')\n",
        "lemmatizer = WordNetLemmatizer()\n",
        "\n",
        "def replace_retweet(tweet, default_replace=\"\"):\n",
        "  tweet = re.sub('RT\\s+', default_replace, tweet)\n",
        "  return tweet\n",
        "\n",
        "def replace_user(tweet, default_replace=\"twitteruser\"):\n",
        "  tweet = re.sub('\\B@\\w+', default_replace, tweet)\n",
        "  return tweet\n",
        "\n",
        "def demojise(tweet):\n",
        "  tweet = emoji.demojize(tweet)\n",
        "  return tweet\n",
        "\n",
        "def replace_url(tweet, default_replace=\"\"):\n",
        "  tweet = re.sub('(http|https):\\/\\/\\S+', default_replace, tweet)\n",
        "  return tweet\n",
        "\n",
        "def replace_hashtag(tweet, default_replace=\"\"):\n",
        "  tweet = re.sub('#+', default_replace, tweet)\n",
        "  return tweet\n",
        "\n",
        "def to_lowercase(tweet):\n",
        "  tweet = tweet.lower()\n",
        "  return tweet\n",
        "\n",
        "def word_repetition(tweet):\n",
        "  tweet = re.sub(r'(.)\\1+', r'\\1\\1', tweet)\n",
        "  return tweet\n",
        "\n",
        "def punct_repetition(tweet, default_replace=\"\"):\n",
        "  tweet = re.sub(r'[\\?\\.\\!]+(?=[\\?\\.\\!])', default_replace, tweet)\n",
        "  return tweet\n",
        "\n",
        "def _fix_contractions(tweet):\n",
        "  tweet = contractions.fix(tweet)\n",
        "  return tweet\n",
        "\n",
        "def tokenize(tweet):\n",
        "  tokens = word_tokenize(tweet)\n",
        "  return tokens\n",
        "\n",
        "def custom_tokenize(tweet,\n",
        "                    keep_punct = False,\n",
        "                    keep_alnum = False,\n",
        "                    keep_stop = False):\n",
        "  \n",
        "  token_list = word_tokenize(tweet)\n",
        "\n",
        "  if not keep_punct:\n",
        "    token_list = [token for token in token_list\n",
        "                  if token not in string.punctuation]\n",
        "\n",
        "  if not keep_alnum:\n",
        "    token_list = [token for token in token_list if token.isalpha()]\n",
        "  \n",
        "  if not keep_stop:\n",
        "    stop_words = set(stopwords.words('english'))\n",
        "    stop_words.discard('not')\n",
        "    token_list = [token for token in token_list if not token in stop_words]\n",
        "\n",
        "  return token_list\n",
        "\n",
        "def stem_tokens(tokens, stemmer):\n",
        "  token_list = []\n",
        "  for token in tokens:\n",
        "    token_list.append(stemmer.stem(token))\n",
        "  return token_list\n",
        "\n",
        "def lemmatize_tokens(tokens, word_type, lemmatizer):\n",
        "  token_list = []\n",
        "  for token in tokens:\n",
        "    token_list.append(lemmatizer.lemmatize(token, word_type[token]))\n",
        "  return token_list\n",
        "\n",
        "def process_tweet(tweet, verbose=False):\n",
        "  if verbose: print(\"Initial tweet: {}\".format(tweet))\n",
        "\n",
        "  ## Twitter Features\n",
        "  tweet = replace_retweet(tweet) # replace retweet\n",
        "  tweet = replace_user(tweet, \"\") # replace user tag\n",
        "  tweet = replace_url(tweet) # replace url\n",
        "  tweet = replace_hashtag(tweet) # replace hashtag\n",
        "  if verbose: print(\"Post Twitter processing tweet: {}\".format(tweet))\n",
        "\n",
        "  ## Word Features\n",
        "  tweet = to_lowercase(tweet) # lower case\n",
        "  tweet = _fix_contractions(tweet) # replace contractions\n",
        "  tweet = punct_repetition(tweet) # replace punctuation repetition\n",
        "  tweet = word_repetition(tweet) # replace word repetition\n",
        "  tweet = demojise(tweet) # replace emojis\n",
        "  if verbose: print(\"Post Word processing tweet: {}\".format(tweet))\n",
        "\n",
        "  ## Tokenization & Stemming\n",
        "  tokens = custom_tokenize(tweet, keep_alnum=False, keep_stop=False) # tokenize\n",
        "  stemmer = SnowballStemmer(\"english\") # define stemmer\n",
        "  stem = stem_tokens(tokens, stemmer) # stem tokens\n",
        "\n",
        "  return stem\n",
        "\n",
        "#Adding 2 new columns tokens & tweet_sentiment\n",
        "#Apply process_tweet function created in above section to the entire DataFrame\n",
        "df[\"tokens\"] = df[\"tweet_text\"].apply(process_tweet)\n",
        "#Convert sentiment to 1 for \"positive\" and 0 for \"negative\" sentiment\n",
        "df[\"tweet_sentiment\"] = df[\"sentiment\"].apply(lambda i: 1\n",
        "                                              if i == \"positive\" else 0)\n",
        "\n",
        "#Convert DataFrame to two lists: one for the tweet tokens (X) and one for the tweet sentiment (y)\n",
        "X = df[\"tokens\"].tolist()\n",
        "y = df[\"tweet_sentiment\"].tolist()\n",
        "\n",
        "X_train, X_test, y_train, y_test = train_test_split(X, y,\n",
        "                                                    random_state=0,\n",
        "                                                    train_size=0.80)\n",
        "\n",
        "#Positive/Negative Frequency \n",
        "def build_freqs(tweet_list, sentiment_list):\n",
        "  freqs = {}\n",
        "  for tweet, sentiment in zip(tweet_list, sentiment_list):\n",
        "    for word in tweet:\n",
        "      pair = (word, sentiment)\n",
        "      if pair in freqs:\n",
        "        freqs[pair] += 1\n",
        "      else:\n",
        "        freqs[pair] = 1\n",
        "  return freqs\n",
        "\n",
        "def tweet_to_freq(tweet, freqs):\n",
        "  x = np.zeros((2,))\n",
        "  for word in tweet:\n",
        "    if (word, 1) in freqs:\n",
        "      x[0] += freqs[(word, 1)]\n",
        "    if (word, 0) in freqs:\n",
        "      x[1] += freqs[(word, 0)]\n",
        "  return x\n",
        "\n",
        "#Count Vectoriser/ Bag of Words\n",
        "def fit_cv(tweet_corpus):\n",
        "  cv_vect = CountVectorizer(tokenizer=lambda x: x,\n",
        "                            preprocessor=lambda x: x)\n",
        "  cv_vect.fit(tweet_corpus)\n",
        "  return cv_vect\n",
        "\n",
        "#TF-IDF\n",
        "def fit_tfidf(tweet_corpus):\n",
        "  tf_vect = TfidfVectorizer(preprocessor=lambda x: x,\n",
        "                            tokenizer=lambda x: x)\n",
        "  tf_vect.fit(tweet_corpus)\n",
        "  return tf_vect\n",
        "\n",
        "def fit_lr(X_train, y_train):\n",
        "  model = LogisticRegression()\n",
        "  model.fit(X_train, y_train)\n",
        "  return model\n",
        "\n",
        "#model based on pos/neg freq\n",
        "freqs = build_freqs(X_train, y_train)\n",
        "X_train_pn = [tweet_to_freq(tweet, freqs) for tweet in X_train]\n",
        "X_test_pn = [tweet_to_freq(tweet, freqs) for tweet in X_test]\n",
        "\n",
        "model_lr_pn = fit_lr(X_train_pn, y_train)\n",
        "\n",
        "#model based on count vector\n",
        "cv = fit_cv(X_train)\n",
        "X_train_cv = cv.transform(X_train)\n",
        "X_test_cv = cv.transform(X_test)\n",
        "\n",
        "model_lr_cv = fit_lr(X_train_cv, y_train)\n",
        "print(model_lr_pn.coef_, model_lr_pn.intercept_)\n",
        "\n",
        "#model based on tf-idf\n",
        "tf = fit_tfidf(X_train)\n",
        "X_train_tf = tf.transform(X_train)\n",
        "X_test_tf = tf.transform(X_test)\n",
        "\n",
        "model_lr_tf = fit_lr(X_train_tf, y_train)\n",
        "\n",
        "def plot_confusion(cm):\n",
        "  plt.figure(figsize = (5,5))\n",
        "  sn.heatmap(cm, annot=True, cmap=\"Blues\", fmt='.0f')\n",
        "  plt.xlabel(\"Prediction\")\n",
        "  plt.ylabel(\"True value\")\n",
        "  plt.title(\"Confusion Matrix\")\n",
        "  return sn\n",
        "\n",
        "#pos/neg\n",
        "y_pred_lr_pn = model_lr_pn.predict(X_test_pn)\n",
        "print(\"LR Model Accuracy: {:.2%}\".format(accuracy_score(y_test, y_pred_lr_pn)))\n",
        "plot_confusion(confusion_matrix(y_test, y_pred_lr_pn))\n",
        "\n",
        "#count vector\n",
        "y_pred_lr_cv = model_lr_cv.predict(X_test_cv)\n",
        "print(\"LR Model Accuracy: {:.2%}\".format(accuracy_score(y_test, y_pred_lr_cv)))\n",
        "plot_confusion(confusion_matrix(y_test, y_pred_lr_cv))\n",
        "\n",
        "#tf-idf\n",
        "y_pred_lr_tf = model_lr_tf.predict(X_test_tf)\n",
        "print(\"LR Model Accuracy: {:.2%}\".format(accuracy_score(y_test, y_pred_lr_tf)))\n",
        "plot_confusion(confusion_matrix(y_test, y_pred_lr_tf))"
      ],
      "execution_count": 11,
      "outputs": [
        {
          "output_type": "stream",
          "text": [
            "[nltk_data] Downloading package wordnet to /root/nltk_data...\n",
            "[nltk_data]   Package wordnet is already up-to-date!\n",
            "[nltk_data] Downloading package stopwords to /root/nltk_data...\n",
            "[nltk_data]   Package stopwords is already up-to-date!\n",
            "[nltk_data] Downloading package punkt to /root/nltk_data...\n",
            "[nltk_data]   Package punkt is already up-to-date!\n"
          ],
          "name": "stdout"
        },
        {
          "output_type": "stream",
          "text": [
            "/usr/local/lib/python3.7/dist-packages/sklearn/feature_extraction/text.py:489: UserWarning: The parameter 'token_pattern' will not be used since 'tokenizer' is not None'\n",
            "  warnings.warn(\"The parameter 'token_pattern' will not be used\"\n"
          ],
          "name": "stderr"
        },
        {
          "output_type": "stream",
          "text": [
            "[[ 0.00265547 -0.00198732]] [-0.5042867]\n"
          ],
          "name": "stdout"
        },
        {
          "output_type": "stream",
          "text": [
            "/usr/local/lib/python3.7/dist-packages/sklearn/feature_extraction/text.py:489: UserWarning: The parameter 'token_pattern' will not be used since 'tokenizer' is not None'\n",
            "  warnings.warn(\"The parameter 'token_pattern' will not be used\"\n"
          ],
          "name": "stderr"
        },
        {
          "output_type": "stream",
          "text": [
            "LR Model Accuracy: 77.92%\n",
            "LR Model Accuracy: 88.55%\n",
            "LR Model Accuracy: 88.57%\n"
          ],
          "name": "stdout"
        },
        {
          "output_type": "execute_result",
          "data": {
            "text/plain": [
              "<module 'seaborn' from '/usr/local/lib/python3.7/dist-packages/seaborn/__init__.py'>"
            ]
          },
          "metadata": {
            "tags": []
          },
          "execution_count": 11
        },
        {
          "output_type": "display_data",
          "data": {
            "image/png": "[encoded data removed]",
            "text/plain": [
              "<Figure size 360x360 with 2 Axes>"
            ]
          },
          "metadata": {
            "tags": [],
            "needs_background": "light"
          }
        },
        {
          "output_type": "display_data",
          "data": {
            "image/png": "[encoded data removed]",
            "text/plain": [
              "<Figure size 360x360 with 2 Axes>"
            ]
          },
          "metadata": {
            "tags": [],
            "needs_background": "light"
          }
        },
        {
          "output_type": "display_data",
          "data": {
            "image/png": "[encoded data removed]",
            "text/plain": [
              "<Figure size 360x360 with 2 Axes>"
            ]
          },
          "metadata": {
            "tags": [],
            "needs_background": "light"
          }
        }
      ]
    },
    {
      "cell_type": "code",
      "metadata": {
        "id": "CuSMxsAnzCFr"
      },
      "source": [
        "your_tweet = \"\"\"enter your tweet here to predict sentiment\"\"\"\n",
        "\n",
        "def predict_tweet(tweet):\n",
        "  processed_tweet = process_tweet(tweet)\n",
        "  transformed_tweet = tf.transform([processed_tweet])\n",
        "  prediction = model_lr_tf.predict(transformed_tweet)\n",
        "\n",
        "  if prediction == 1:\n",
        "    return \"Positive sentiment predicted!\"\n",
        "  else:\n",
        "    return \"Negative sentiment predicted.\"\n",
        "  \n",
        "predict_tweet(your_tweet)"
      ],
      "execution_count": null,
      "outputs": []
    }
  ]
}